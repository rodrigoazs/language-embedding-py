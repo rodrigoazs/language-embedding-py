{
 "cells": [
  {
   "cell_type": "code",
   "execution_count": 1,
   "id": "3a6c15b1",
   "metadata": {},
   "outputs": [
    {
     "data": {
      "text/plain": [
       "<torch._C.Generator at 0x1802fc4daf0>"
      ]
     },
     "execution_count": 1,
     "metadata": {},
     "output_type": "execute_result"
    }
   ],
   "source": [
    "import torch\n",
    "from torch import nn\n",
    "from tqdm.auto import tqdm\n",
    "from torchvision import transforms\n",
    "import matplotlib.pyplot as plt\n",
    "torch.manual_seed(0) # Set for testing purposes, please do not change!"
   ]
  },
  {
   "cell_type": "code",
   "execution_count": 612,
   "id": "51f37340",
   "metadata": {},
   "outputs": [],
   "source": [
    "class Autoencoder(nn.Module):\n",
    "    def __init__(self, char_num_embeddings=10, char_embedding_dim=5, word_embedding_dim=2):\n",
    "        super(Autoencoder, self).__init__()\n",
    "        self.char_embedding_dim = char_embedding_dim\n",
    "        self.embedding = nn.Sequential(\n",
    "            nn.Embedding(char_num_embeddings, char_embedding_dim, max_norm=True)\n",
    "        )\n",
    "        self.encoder = nn.Sequential(\n",
    "            nn.Conv2d(1, 8, kernel_size=(3, char_embedding_dim), padding=(2, 0)),\n",
    "            nn.ReLU(True),\n",
    "            nn.Conv2d(8, 16, kernel_size=(3, 1), padding=(2, 0)),\n",
    "            nn.Flatten(1, 3),\n",
    "            nn.Linear(9 * 16, word_embedding_dim)\n",
    "        )\n",
    "        self.decoder = nn.Sequential(\n",
    "            nn.Linear(word_embedding_dim, 9 * 16),\n",
    "            nn.Unflatten(1, (16, 9, 1)),\n",
    "            nn.ConvTranspose2d(16, 9, kernel_size=(1, 1)),\n",
    "            nn.ReLU(True),\n",
    "            nn.ConvTranspose2d(9, 1, kernel_size=(1, 5), padding=(2, 0)),\n",
    "        )\n",
    "    def forward(self, x):\n",
    "        x = x.view(len(x), 1, self.char_embedding_dim)\n",
    "        return self.decoder(self.encoder(self.embedding(x)))"
   ]
  },
  {
   "cell_type": "code",
   "execution_count": 622,
   "id": "415cb70c",
   "metadata": {},
   "outputs": [],
   "source": [
    "device = 'cpu'\n",
    "lr = 0.00001\n",
    "\n",
    "gen = Autoencoder(char_num_embeddings=10, char_embedding_dim=5, word_embedding_dim=2).to(device)\n",
    "gen_opt = torch.optim.Adam(gen.parameters(), lr=lr)"
   ]
  },
  {
   "cell_type": "code",
   "execution_count": 623,
   "id": "b6416d9e",
   "metadata": {
    "scrolled": false
   },
   "outputs": [
    {
     "data": {
      "text/plain": [
       "tensor([[[[ 0.2607,  0.4310,  0.1563,  0.4537,  0.2289],\n",
       "          [ 0.4093,  0.5386,  0.3286,  0.2687,  0.2738],\n",
       "          [ 0.0310,  0.5530,  0.2436,  0.7137,  0.2564],\n",
       "          [ 0.4468,  0.2088,  0.1503,  0.2652,  0.1198],\n",
       "          [ 0.5723,  0.2027, -0.0158, -0.0767, -0.1016]]],\n",
       "\n",
       "\n",
       "        [[[ 0.2607,  0.4310,  0.1563,  0.4537,  0.2289],\n",
       "          [ 0.4093,  0.5386,  0.3286,  0.2687,  0.2738],\n",
       "          [ 0.0310,  0.5530,  0.2436,  0.7137,  0.2564],\n",
       "          [ 0.4468,  0.2088,  0.1503,  0.2652,  0.1198],\n",
       "          [ 0.5723,  0.2027, -0.0158, -0.0767, -0.1016]]]],\n",
       "       grad_fn=<ConvolutionBackward0>)"
      ]
     },
     "execution_count": 623,
     "metadata": {},
     "output_type": "execute_result"
    }
   ],
   "source": [
    "gen(torch.LongTensor([[1, 2, 4, 5, 9], [1, 2, 4, 5, 9]]))"
   ]
  },
  {
   "cell_type": "code",
   "execution_count": 617,
   "id": "9046e93f",
   "metadata": {},
   "outputs": [
    {
     "data": {
      "text/plain": [
       "tensor([[[[-0.3032,  0.2617,  0.0890,  0.4227, -0.3036],\n",
       "          [-0.0009,  0.0047,  0.1346, -0.0153,  0.3670],\n",
       "          [-0.0304, -0.1539, -0.0055,  0.3631, -0.4502],\n",
       "          [-0.0032, -0.2092,  0.3232, -0.2495,  0.3346],\n",
       "          [ 0.0921,  0.0023,  0.2342, -0.2408,  0.2772]]],\n",
       "\n",
       "\n",
       "        [[[-0.3032,  0.2617,  0.0890,  0.4227, -0.3036],\n",
       "          [-0.0009,  0.0047,  0.1346, -0.0153,  0.3670],\n",
       "          [-0.0304, -0.1539, -0.0055,  0.3631, -0.4502],\n",
       "          [-0.0032, -0.2092,  0.3232, -0.2495,  0.3346],\n",
       "          [ 0.0921,  0.0023,  0.2342, -0.2408,  0.2772]]]],\n",
       "       grad_fn=<ConvolutionBackward0>)"
      ]
     },
     "execution_count": 617,
     "metadata": {},
     "output_type": "execute_result"
    }
   ],
   "source": [
    "gen.decoder(torch.FloatTensor([[ 0.0708, -0.1364], [ 0.0708, -0.1364]]))"
   ]
  },
  {
   "cell_type": "code",
   "execution_count": null,
   "id": "16dec70d",
   "metadata": {},
   "outputs": [],
   "source": []
  }
 ],
 "metadata": {
  "kernelspec": {
   "display_name": "Python 3 (ipykernel)",
   "language": "python",
   "name": "python3"
  },
  "language_info": {
   "codemirror_mode": {
    "name": "ipython",
    "version": 3
   },
   "file_extension": ".py",
   "mimetype": "text/x-python",
   "name": "python",
   "nbconvert_exporter": "python",
   "pygments_lexer": "ipython3",
   "version": "3.11.5"
  }
 },
 "nbformat": 4,
 "nbformat_minor": 5
}
